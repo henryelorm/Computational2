{
 "cells": [
  {
   "cell_type": "code",
   "execution_count": 1,
   "id": "178e1033",
   "metadata": {},
   "outputs": [],
   "source": [
    "from ase import units\n",
    "\n",
    "from ase.lattice.cubic import FaceCenteredCubic\n",
    "from ase.visualize import  view \n",
    "from ase.io import read\n",
    "\n",
    "from ase.io.trajectory import Trajectory\n",
    "from ase.md.verlet import VelocityVerlet\n",
    "from ase.md.langevin import Langevin\n",
    "from ase.md.nptberendsen import  NPTBerendsen\n",
    "from ase.calculators.emt import  EMT\n",
    "from ase.md.velocitydistribution import MaxwellBoltzmannDistribution\n",
    "from ase.optimize import  BFGS, LBFGS, GPMin, FIRE, FIRE2"
   ]
  },
  {
   "cell_type": "code",
   "execution_count": 2,
   "id": "8ee5940e",
   "metadata": {},
   "outputs": [],
   "source": [
    "size = 3"
   ]
  },
  {
   "cell_type": "code",
   "execution_count": 3,
   "id": "05124119",
   "metadata": {},
   "outputs": [
    {
     "data": {
      "text/plain": [
       "<Popen: returncode: None args: ['c:\\\\Users\\\\Acer\\\\anaconda3\\\\python.exe', '-...>"
      ]
     },
     "execution_count": 3,
     "metadata": {},
     "output_type": "execute_result"
    }
   ],
   "source": [
    "cu_struct = FaceCenteredCubic(\n",
    "    directions=[[1, 0, 0], [0, 1, 0], [0, 0, 1]],\n",
    "    symbol='Cu',\n",
    "    size=(size, size, size),\n",
    "    pbc=True,\n",
    ")\n",
    "\n",
    "view(cu_struct)"
   ]
  },
  {
   "cell_type": "code",
   "execution_count": 4,
   "id": "0bcc2ad5",
   "metadata": {},
   "outputs": [],
   "source": [
    "cu_struct.calc  = EMT()"
   ]
  },
  {
   "cell_type": "code",
   "execution_count": 5,
   "id": "1cf0293c",
   "metadata": {},
   "outputs": [
    {
     "data": {
      "text/plain": [
       "-0.6136032267264113"
      ]
     },
     "execution_count": 5,
     "metadata": {},
     "output_type": "execute_result"
    }
   ],
   "source": [
    "cu_struct.get_potential_energy()"
   ]
  },
  {
   "cell_type": "code",
   "execution_count": 6,
   "id": "542d07f3",
   "metadata": {},
   "outputs": [],
   "source": [
    "# dyn = BFGS(atoms=cu_struct).run(fmax=0.005)"
   ]
  },
  {
   "cell_type": "code",
   "execution_count": 6,
   "id": "a663c2e8",
   "metadata": {},
   "outputs": [],
   "source": [
    "MaxwellBoltzmannDistribution(atoms=cu_struct, temperature_K=400)"
   ]
  },
  {
   "cell_type": "code",
   "execution_count": 8,
   "id": "196643ca",
   "metadata": {},
   "outputs": [],
   "source": [
    "# cu_struct.get_momenta()"
   ]
  },
  {
   "cell_type": "markdown",
   "id": "3a8d5dd0",
   "metadata": {},
   "source": [
    "### NVE"
   ]
  },
  {
   "cell_type": "code",
   "execution_count": 7,
   "id": "b0e4af79",
   "metadata": {},
   "outputs": [
    {
     "data": {
      "text/plain": [
       "True"
      ]
     },
     "execution_count": 7,
     "metadata": {},
     "output_type": "execute_result"
    }
   ],
   "source": [
    "velet =  VelocityVerlet(cu_struct, 5 * units.fs, trajectory='md.traj', logfile='md.log')\n",
    "\n",
    "\n",
    "velet.run(500)"
   ]
  },
  {
   "cell_type": "code",
   "execution_count": 11,
   "id": "60c62c6a",
   "metadata": {},
   "outputs": [],
   "source": [
    "def printenergy(a=cu_struct):\n",
    "    \"\"\"Function to print the potential, kinetic and total energy\"\"\"\n",
    "    epot = a.get_potential_energy() / len(a)\n",
    "    ekin = a.get_kinetic_energy() / len(a)\n",
    "    print(\n",
    "        'Energy per atom: Epot = %.3feV  Ekin = %.3feV (T=%3.0fK)  '\n",
    "        'Etot = %.3feV' % (epot, ekin, ekin / (1.5 * units.kB), epot + ekin)\n",
    "    )"
   ]
  },
  {
   "cell_type": "code",
   "execution_count": 8,
   "id": "8fd95ab7",
   "metadata": {},
   "outputs": [
    {
     "data": {
      "text/plain": [
       "<Popen: returncode: None args: ['c:\\\\Users\\\\Acer\\\\anaconda3\\\\python.exe', '-...>"
      ]
     },
     "execution_count": 8,
     "metadata": {},
     "output_type": "execute_result"
    }
   ],
   "source": [
    "read_struct  = read('md.traj', index=':')\n",
    "\n",
    "view(read_struct)"
   ]
  },
  {
   "cell_type": "markdown",
   "id": "32005724",
   "metadata": {},
   "source": [
    "### NVT"
   ]
  },
  {
   "cell_type": "markdown",
   "id": "828b5faf",
   "metadata": {},
   "source": [
    "###### Langevin"
   ]
  },
  {
   "cell_type": "code",
   "execution_count": 9,
   "id": "5dd00bc8",
   "metadata": {},
   "outputs": [],
   "source": [
    "dyn = Langevin(\n",
    "    cu_struct,\n",
    "    timestep=5.0 * units.fs,\n",
    "    temperature_K=400.0,  # temperature in K\n",
    "    friction=0.01 / units.fs,\n",
    ")"
   ]
  },
  {
   "cell_type": "code",
   "execution_count": 12,
   "id": "59a1dcbc",
   "metadata": {},
   "outputs": [
    {
     "name": "stdout",
     "output_type": "stream",
     "text": [
      "Energy per atom: Epot = 0.020eV  Ekin = 0.027eV (T=212K)  Etot = 0.047eV\n",
      "Energy per atom: Epot = 0.020eV  Ekin = 0.027eV (T=212K)  Etot = 0.047eV\n",
      "Energy per atom: Epot = 0.028eV  Ekin = 0.037eV (T=285K)  Etot = 0.065eV\n",
      "Energy per atom: Epot = 0.035eV  Ekin = 0.042eV (T=327K)  Etot = 0.077eV\n",
      "Energy per atom: Epot = 0.040eV  Ekin = 0.047eV (T=366K)  Etot = 0.087eV\n",
      "Energy per atom: Epot = 0.046eV  Ekin = 0.047eV (T=360K)  Etot = 0.092eV\n",
      "Energy per atom: Epot = 0.049eV  Ekin = 0.055eV (T=429K)  Etot = 0.104eV\n",
      "Energy per atom: Epot = 0.044eV  Ekin = 0.059eV (T=454K)  Etot = 0.103eV\n",
      "Energy per atom: Epot = 0.053eV  Ekin = 0.053eV (T=409K)  Etot = 0.106eV\n",
      "Energy per atom: Epot = 0.056eV  Ekin = 0.050eV (T=384K)  Etot = 0.106eV\n",
      "Energy per atom: Epot = 0.045eV  Ekin = 0.059eV (T=456K)  Etot = 0.104eV\n",
      "Energy per atom: Epot = 0.051eV  Ekin = 0.054eV (T=417K)  Etot = 0.105eV\n",
      "Energy per atom: Epot = 0.052eV  Ekin = 0.051eV (T=397K)  Etot = 0.104eV\n",
      "Energy per atom: Epot = 0.049eV  Ekin = 0.060eV (T=466K)  Etot = 0.110eV\n",
      "Energy per atom: Epot = 0.046eV  Ekin = 0.052eV (T=402K)  Etot = 0.098eV\n",
      "Energy per atom: Epot = 0.051eV  Ekin = 0.050eV (T=388K)  Etot = 0.101eV\n",
      "Energy per atom: Epot = 0.048eV  Ekin = 0.053eV (T=410K)  Etot = 0.101eV\n",
      "Energy per atom: Epot = 0.044eV  Ekin = 0.048eV (T=374K)  Etot = 0.093eV\n",
      "Energy per atom: Epot = 0.039eV  Ekin = 0.047eV (T=364K)  Etot = 0.086eV\n",
      "Energy per atom: Epot = 0.039eV  Ekin = 0.050eV (T=386K)  Etot = 0.089eV\n",
      "Energy per atom: Epot = 0.047eV  Ekin = 0.046eV (T=357K)  Etot = 0.093eV\n",
      "Energy per atom: Epot = 0.044eV  Ekin = 0.048eV (T=368K)  Etot = 0.092eV\n",
      "Energy per atom: Epot = 0.047eV  Ekin = 0.049eV (T=377K)  Etot = 0.096eV\n",
      "Energy per atom: Epot = 0.042eV  Ekin = 0.054eV (T=417K)  Etot = 0.096eV\n",
      "Energy per atom: Epot = 0.054eV  Ekin = 0.049eV (T=377K)  Etot = 0.102eV\n",
      "Energy per atom: Epot = 0.043eV  Ekin = 0.063eV (T=486K)  Etot = 0.106eV\n",
      "Energy per atom: Epot = 0.045eV  Ekin = 0.048eV (T=375K)  Etot = 0.094eV\n",
      "Energy per atom: Epot = 0.047eV  Ekin = 0.050eV (T=384K)  Etot = 0.097eV\n",
      "Energy per atom: Epot = 0.046eV  Ekin = 0.050eV (T=389K)  Etot = 0.097eV\n",
      "Energy per atom: Epot = 0.041eV  Ekin = 0.054eV (T=419K)  Etot = 0.095eV\n",
      "Energy per atom: Epot = 0.051eV  Ekin = 0.047eV (T=363K)  Etot = 0.098eV\n",
      "Energy per atom: Epot = 0.045eV  Ekin = 0.057eV (T=441K)  Etot = 0.102eV\n",
      "Energy per atom: Epot = 0.046eV  Ekin = 0.053eV (T=411K)  Etot = 0.100eV\n",
      "Energy per atom: Epot = 0.045eV  Ekin = 0.048eV (T=373K)  Etot = 0.093eV\n",
      "Energy per atom: Epot = 0.045eV  Ekin = 0.049eV (T=381K)  Etot = 0.094eV\n",
      "Energy per atom: Epot = 0.045eV  Ekin = 0.053eV (T=412K)  Etot = 0.098eV\n",
      "Energy per atom: Epot = 0.049eV  Ekin = 0.051eV (T=397K)  Etot = 0.101eV\n",
      "Energy per atom: Epot = 0.043eV  Ekin = 0.045eV (T=351K)  Etot = 0.089eV\n",
      "Energy per atom: Epot = 0.039eV  Ekin = 0.052eV (T=404K)  Etot = 0.092eV\n",
      "Energy per atom: Epot = 0.041eV  Ekin = 0.063eV (T=485K)  Etot = 0.103eV\n",
      "Energy per atom: Epot = 0.056eV  Ekin = 0.051eV (T=393K)  Etot = 0.107eV\n",
      "Energy per atom: Epot = 0.047eV  Ekin = 0.057eV (T=437K)  Etot = 0.104eV\n",
      "Energy per atom: Epot = 0.048eV  Ekin = 0.055eV (T=426K)  Etot = 0.103eV\n",
      "Energy per atom: Epot = 0.052eV  Ekin = 0.059eV (T=456K)  Etot = 0.111eV\n",
      "Energy per atom: Epot = 0.045eV  Ekin = 0.058eV (T=451K)  Etot = 0.104eV\n",
      "Energy per atom: Epot = 0.050eV  Ekin = 0.054eV (T=416K)  Etot = 0.104eV\n",
      "Energy per atom: Epot = 0.051eV  Ekin = 0.054eV (T=417K)  Etot = 0.105eV\n",
      "Energy per atom: Epot = 0.054eV  Ekin = 0.055eV (T=426K)  Etot = 0.109eV\n",
      "Energy per atom: Epot = 0.047eV  Ekin = 0.048eV (T=373K)  Etot = 0.095eV\n",
      "Energy per atom: Epot = 0.041eV  Ekin = 0.057eV (T=437K)  Etot = 0.098eV\n",
      "Energy per atom: Epot = 0.051eV  Ekin = 0.047eV (T=361K)  Etot = 0.098eV\n",
      "Energy per atom: Epot = 0.053eV  Ekin = 0.047eV (T=361K)  Etot = 0.099eV\n"
     ]
    },
    {
     "data": {
      "text/plain": [
       "True"
      ]
     },
     "execution_count": 12,
     "metadata": {},
     "output_type": "execute_result"
    }
   ],
   "source": [
    "dyn.attach(printenergy, interval=10)\n",
    "\n",
    "traj = Trajectory('cu_langevin.traj', 'w', cu_struct)\n",
    "dyn.attach(traj.write, interval=50)\n",
    "\n",
    "# Now run the dynamics\n",
    "printenergy()\n",
    "dyn.run(500)"
   ]
  },
  {
   "cell_type": "code",
   "execution_count": 13,
   "id": "8aa47cf2",
   "metadata": {},
   "outputs": [
    {
     "data": {
      "text/plain": [
       "<Popen: returncode: None args: ['c:\\\\Users\\\\Acer\\\\anaconda3\\\\python.exe', '-...>"
      ]
     },
     "execution_count": 13,
     "metadata": {},
     "output_type": "execute_result"
    }
   ],
   "source": [
    "read_struct  = read('cu_langevin.traj', index=':')\n",
    "\n",
    "view(read_struct)"
   ]
  },
  {
   "cell_type": "markdown",
   "id": "c92cd750",
   "metadata": {},
   "source": [
    "### NPT"
   ]
  },
  {
   "cell_type": "markdown",
   "id": "df40cef7",
   "metadata": {},
   "source": [
    "###### npt berendsen"
   ]
  },
  {
   "cell_type": "code",
   "execution_count": 14,
   "id": "06dcd9a3",
   "metadata": {},
   "outputs": [],
   "source": [
    "dyn = NPTBerendsen(cu_struct, timestep=0.1 * units.fs, temperature_K=300,\n",
    "                   taut=100 * units.fs, pressure_au=1.01325 * units.bar,\n",
    "                   taup=1000 * units.fs, compressibility_au=4.57e-5 / units.bar, trajectory ='cu_berendsen.traj' )"
   ]
  },
  {
   "cell_type": "code",
   "execution_count": 15,
   "id": "f2397e2c",
   "metadata": {},
   "outputs": [
    {
     "data": {
      "text/plain": [
       "True"
      ]
     },
     "execution_count": 15,
     "metadata": {},
     "output_type": "execute_result"
    }
   ],
   "source": [
    "dyn.run(500)"
   ]
  },
  {
   "cell_type": "code",
   "execution_count": 16,
   "id": "58cdcd46",
   "metadata": {},
   "outputs": [
    {
     "data": {
      "text/plain": [
       "<Popen: returncode: None args: ['c:\\\\Users\\\\Acer\\\\anaconda3\\\\python.exe', '-...>"
      ]
     },
     "execution_count": 16,
     "metadata": {},
     "output_type": "execute_result"
    }
   ],
   "source": [
    "read_struct  = read('cu_berendsen.traj', index=':')\n",
    "\n",
    "view(read_struct)"
   ]
  }
 ],
 "metadata": {
  "kernelspec": {
   "display_name": "base",
   "language": "python",
   "name": "python3"
  },
  "language_info": {
   "codemirror_mode": {
    "name": "ipython",
    "version": 3
   },
   "file_extension": ".py",
   "mimetype": "text/x-python",
   "name": "python",
   "nbconvert_exporter": "python",
   "pygments_lexer": "ipython3",
   "version": "3.12.4"
  }
 },
 "nbformat": 4,
 "nbformat_minor": 5
}
