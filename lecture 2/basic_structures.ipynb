{
 "cells": [
  {
   "cell_type": "code",
   "execution_count": 1,
   "metadata": {},
   "outputs": [],
   "source": [
    "import numpy as np"
   ]
  },
  {
   "cell_type": "code",
   "execution_count": 5,
   "metadata": {},
   "outputs": [],
   "source": [
    "def generate_bcc_poscar(lattice_constant=3.0, nx=1, ny=1, nz=1, element=\"Fe\", filename=\"POSCAR\"):\n",
    "    \"\"\"\n",
    "    Generate a POSCAR file for a BCC crystal structure.\n",
    "\n",
    "    Parameters:\n",
    "    - lattice_constant: Length of the cubic unit cell edge (in Angstroms).\n",
    "    - nx, ny, nz: Number of unit cell repetitions along x, y, z axes.\n",
    "    - element: Chemical symbol of the element (e.g., \"Fe\" for iron).\n",
    "    - filename: Output POSCAR file name.\n",
    "    \"\"\"\n",
    "    # Define the conventional BCC unit cell lattice vectors\n",
    "    lattice_vectors = lattice_constant * np.array([\n",
    "        [1.0, 0.0, 0.0],\n",
    "        [0.0, 1.0, 0.0],\n",
    "        [0.0, 0.0, 1.0]\n",
    "    ])\n",
    "\n",
    "    # Scale lattice vectors for supercell\n",
    "    supercell_vectors = lattice_vectors * np.array([nx, ny, nz]).reshape(1, 3)\n",
    "\n",
    "    # Basis atoms in fractional coordinates (for conventional BCC unit cell)\n",
    "    basis_positions = np.array([\n",
    "        [0.0, 0.0, 0.0],\n",
    "        [0.5, 0.5, 0.5]\n",
    "    ])\n",
    "\n",
    "    # Generate atomic positions for the supercell\n",
    "    atom_positions = []\n",
    "    for i in range(nx):\n",
    "        for j in range(ny):\n",
    "            for k in range(nz):\n",
    "                for pos in basis_positions:\n",
    "                    frac_pos = pos + np.array([i, j, k])\n",
    "                    frac_pos = frac_pos / np.array([nx, ny, nz])\n",
    "                    atom_positions.append(frac_pos)\n",
    "\n",
    "    atom_positions = np.array(atom_positions)\n",
    "    num_atoms = len(atom_positions)\n",
    "\n",
    "    # Write to POSCAR file\n",
    "    with open(filename, 'w') as f:\n",
    "\n",
    "        f.write(f\"BCC {element} supercell ({nx}x{ny}x{nz})\\n\")\n",
    "        f.write(\"1.0\\n\")\n",
    "        for vec in supercell_vectors:\n",
    "            f.write(f\"  {vec[0]:.10f}  {vec[1]:.10f}  {vec[2]:.10f}\\n\")\n",
    "        f.write(f\"{element}  \\n{num_atoms}\\n\")\n",
    "        f.write(\"Direct\\n\")\n",
    "        for pos in atom_positions:\n",
    "            f.write(f\"  {pos[0]:.10f}  {pos[1]:.10f}  {pos[2]:.10f}\\n\")"
   ]
  },
  {
   "cell_type": "code",
   "execution_count": 6,
   "metadata": {},
   "outputs": [
    {
     "name": "stdout",
     "output_type": "stream",
     "text": [
      "POSCAR file generated: POSCAR_bcc.vasp\n"
     ]
    }
   ],
   "source": [
    "a = 2.87  # \n",
    "nx, ny, nz = 2, 2, 2\n",
    "element = \"Fe\"\n",
    "filename = \"POSCAR_bcc.vasp\"\n",
    "    \n",
    "generate_bcc_poscar(lattice_constant=a, nx=nx, ny=ny, nz=nz, element=element, filename=filename)\n",
    "print(f\"POSCAR file generated: {filename}\")"
   ]
  },
  {
   "cell_type": "code",
   "execution_count": 64,
   "metadata": {},
   "outputs": [],
   "source": [
    "from ase import Atoms\n",
    "from ase.spacegroup import crystal, get_basis\n",
    "from ase.build import bulk, molecule, fcc111, diamond100, diamond111\n",
    "from ase.visualize import view\n",
    "\n",
    "from ase.io.vasp import write_vasp\n"
   ]
  },
  {
   "cell_type": "code",
   "execution_count": 9,
   "metadata": {},
   "outputs": [
    {
     "data": {
      "text/plain": [
       "<Popen: returncode: None args: ['c:\\\\Users\\\\Acer\\\\anaconda3\\\\python.exe', '-...>"
      ]
     },
     "execution_count": 9,
     "metadata": {},
     "output_type": "execute_result"
    }
   ],
   "source": [
    "h2 = Atoms('H2',positions=[[0, 0, 0], [0, 0, 0.7]])\n",
    "view(h2)"
   ]
  },
  {
   "cell_type": "code",
   "execution_count": 53,
   "metadata": {},
   "outputs": [],
   "source": [
    "slab = diamond111('Si', size=(4,4,3), vacuum=10.0)\n",
    "\n",
    "# write_vasp(atoms=a3, file='poscar')"
   ]
  },
  {
   "cell_type": "code",
   "execution_count": 54,
   "metadata": {},
   "outputs": [
    {
     "data": {
      "text/plain": [
       "<Popen: returncode: None args: ['c:\\\\Users\\\\Acer\\\\anaconda3\\\\python.exe', '-...>"
      ]
     },
     "execution_count": 54,
     "metadata": {},
     "output_type": "execute_result"
    }
   ],
   "source": [
    "# atoms = molecule('methylenecyclopropane')\n",
    "view(slab)"
   ]
  },
  {
   "cell_type": "code",
   "execution_count": 60,
   "metadata": {},
   "outputs": [
    {
     "data": {
      "text/plain": [
       "<Popen: returncode: None args: ['c:\\\\Users\\\\Acer\\\\anaconda3\\\\python.exe', '-...>"
      ]
     },
     "execution_count": 60,
     "metadata": {},
     "output_type": "execute_result"
    }
   ],
   "source": [
    "diamond = crystal('C', [(0,0,0)], spacegroup=227,\n",
    "    cellpar=[3.57, 3.57, 3.57, 90, 90, 90], size=(2,1,1))\n",
    "\n",
    "view(diamond)"
   ]
  },
  {
   "cell_type": "code",
   "execution_count": 66,
   "metadata": {},
   "outputs": [
    {
     "ename": "RuntimeError",
     "evalue": "Atoms object has no calculator.",
     "output_type": "error",
     "traceback": [
      "\u001b[1;31m---------------------------------------------------------------------------\u001b[0m",
      "\u001b[1;31mRuntimeError\u001b[0m                              Traceback (most recent call last)",
      "Cell \u001b[1;32mIn[66], line 1\u001b[0m\n\u001b[1;32m----> 1\u001b[0m get_basis(diamond\u001b[38;5;241m.\u001b[39mget_potential_energies())\n",
      "File \u001b[1;32mc:\\Users\\Acer\\anaconda3\\Lib\\site-packages\\ase\\atoms.py:776\u001b[0m, in \u001b[0;36mAtoms.get_potential_energies\u001b[1;34m(self)\u001b[0m\n\u001b[0;32m    770\u001b[0m \u001b[38;5;250m\u001b[39m\u001b[38;5;124;03m\"\"\"Calculate the potential energies of all the atoms.\u001b[39;00m\n\u001b[0;32m    771\u001b[0m \n\u001b[0;32m    772\u001b[0m \u001b[38;5;124;03mOnly available with calculators supporting per-atom energies\u001b[39;00m\n\u001b[0;32m    773\u001b[0m \u001b[38;5;124;03m(e.g. classical potentials).\u001b[39;00m\n\u001b[0;32m    774\u001b[0m \u001b[38;5;124;03m\"\"\"\u001b[39;00m\n\u001b[0;32m    775\u001b[0m \u001b[38;5;28;01mif\u001b[39;00m \u001b[38;5;28mself\u001b[39m\u001b[38;5;241m.\u001b[39m_calc \u001b[38;5;129;01mis\u001b[39;00m \u001b[38;5;28;01mNone\u001b[39;00m:\n\u001b[1;32m--> 776\u001b[0m     \u001b[38;5;28;01mraise\u001b[39;00m \u001b[38;5;167;01mRuntimeError\u001b[39;00m(\u001b[38;5;124m'\u001b[39m\u001b[38;5;124mAtoms object has no calculator.\u001b[39m\u001b[38;5;124m'\u001b[39m)\n\u001b[0;32m    777\u001b[0m \u001b[38;5;28;01mreturn\u001b[39;00m \u001b[38;5;28mself\u001b[39m\u001b[38;5;241m.\u001b[39m_calc\u001b[38;5;241m.\u001b[39mget_potential_energies(\u001b[38;5;28mself\u001b[39m)\n",
      "\u001b[1;31mRuntimeError\u001b[0m: Atoms object has no calculator."
     ]
    }
   ],
   "source": [
    "get_basis(diamond.get_potential_energies())"
   ]
  }
 ],
 "metadata": {
  "kernelspec": {
   "display_name": "base",
   "language": "python",
   "name": "python3"
  },
  "language_info": {
   "codemirror_mode": {
    "name": "ipython",
    "version": 3
   },
   "file_extension": ".py",
   "mimetype": "text/x-python",
   "name": "python",
   "nbconvert_exporter": "python",
   "pygments_lexer": "ipython3",
   "version": "3.12.4"
  }
 },
 "nbformat": 4,
 "nbformat_minor": 2
}
